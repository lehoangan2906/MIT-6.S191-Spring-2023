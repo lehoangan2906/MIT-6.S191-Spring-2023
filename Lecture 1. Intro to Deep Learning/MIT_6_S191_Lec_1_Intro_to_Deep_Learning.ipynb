{
  "nbformat": 4,
  "nbformat_minor": 0,
  "metadata": {
    "colab": {
      "provenance": []
    },
    "kernelspec": {
      "name": "python3",
      "display_name": "Python 3"
    },
    "language_info": {
      "name": "python"
    }
  },
  "cells": [
    {
      "cell_type": "markdown",
      "source": [
        "single perceptron"
      ],
      "metadata": {
        "id": "M6sfqFY_5wqT"
      }
    },
    {
      "cell_type": "code",
      "source": [
        "import tensorflow as tf\n",
        "import numpy as np\n",
        "import matplotlib as mlp\n",
        "import matplotlib.pyplot as plt"
      ],
      "metadata": {
        "id": "8t0dod5r6O0w"
      },
      "execution_count": null,
      "outputs": []
    },
    {
      "cell_type": "code",
      "execution_count": null,
      "metadata": {
        "id": "XIAp-EnF5Sn3"
      },
      "outputs": [],
      "source": [
        "class MyDenseLayer(tf.keras.layers.Layer):\n",
        "    def __init__(self, input_dim, output_dim):\n",
        "        super(MyDenseLayer, self).__init__()\n",
        "\n",
        "        # Initialize weights and bias\n",
        "        self.W = self.add_weight([input_dim, output_dim])\n",
        "        self.b = self.add_weight([1, output_dim])\n",
        "    \n",
        "    def call(self, inputs):\n",
        "        # Forward propagate the inputs\n",
        "        z = tf.matmul(inputs, self.W) + self.b\n",
        "\n",
        "        # Feed through a non-linear activation\n",
        "        output = tf.match.sigmoid(z)\n",
        "\n",
        "        return output"
      ]
    },
    {
      "cell_type": "markdown",
      "source": [
        "Single dense layer"
      ],
      "metadata": {
        "id": "07vR56Xv7O6V"
      }
    },
    {
      "cell_type": "code",
      "source": [
        "layer = tf.keras.layers.Dense(units = 2)"
      ],
      "metadata": {
        "id": "f4DDiu996YtD"
      },
      "execution_count": null,
      "outputs": []
    },
    {
      "cell_type": "markdown",
      "source": [
        "Multilayer "
      ],
      "metadata": {
        "id": "Z26F0TSn7kei"
      }
    },
    {
      "cell_type": "code",
      "source": [
        "# model = tf.keras.Sequential([\n",
        "#     tf.keras.layers.Dense(n),\n",
        "#     tf.keras.layers.Dense(2)\n",
        "# ])"
      ],
      "metadata": {
        "id": "DkboD7EP7azC"
      },
      "execution_count": null,
      "outputs": []
    },
    {
      "cell_type": "markdown",
      "source": [
        "Deep Neural Network"
      ],
      "metadata": {
        "id": "s6tZG4-37_DD"
      }
    },
    {
      "cell_type": "code",
      "source": [
        "# model = tf.keras.Sequential([\n",
        "#     tf.keras.layers.Dense(n),\n",
        "#     tf.keras.layers.Dense(n_2),\n",
        "#     .\n",
        "#     .\n",
        "#     .\n",
        "#     tf.keras.layers.Dense(2)\n",
        "# ])"
      ],
      "metadata": {
        "id": "9kZYO59Z7yA7"
      },
      "execution_count": null,
      "outputs": []
    },
    {
      "cell_type": "markdown",
      "source": [
        "Binary Cross Entropy Loss"
      ],
      "metadata": {
        "id": "W4vyBIWv_JJC"
      }
    },
    {
      "cell_type": "code",
      "source": [
        "#loss = tf.reduce_mean(tf.nn.softmax_cross_entropy_with_logits(y, predicted))"
      ],
      "metadata": {
        "id": "9-mtSJVN_KPA"
      },
      "execution_count": null,
      "outputs": []
    },
    {
      "cell_type": "markdown",
      "source": [
        "Mean Squared Error Loss"
      ],
      "metadata": {
        "id": "cimDiHqh_naR"
      }
    },
    {
      "cell_type": "code",
      "source": [
        "#loss = tf.reduce_mean(tf.sqare(tf.subtract(y, predicted)))\n",
        "#loss = tf.keras.losses.MSE(y, predicted)"
      ],
      "metadata": {
        "id": "tLFl-KvH_UBn"
      },
      "execution_count": null,
      "outputs": []
    },
    {
      "cell_type": "markdown",
      "source": [
        "Gradient Descent\n",
        "\n",
        "- Initialize Weights randomly\n",
        "- Loop unitil convergence:\n",
        "    + Compute Gradient\n",
        "    + Update weights\n",
        "- return weights"
      ],
      "metadata": {
        "id": "_eWf8fPyBHCq"
      }
    },
    {
      "cell_type": "code",
      "source": [
        "# weights = tf.Variable([tf.random.normal()])\n",
        "\n",
        "# while True:\n",
        "#     with tf.GradientTape() as g:\n",
        "#         loss = compute_loss(weights)\n",
        "#         gradient = g.gradient(loss, weights)\n",
        "\n",
        "#     weights = weights - lr * gradient"
      ],
      "metadata": {
        "id": "P0wHPV8u_9wT"
      },
      "execution_count": null,
      "outputs": []
    },
    {
      "cell_type": "markdown",
      "source": [
        "Gradient Descent Algorithms (optimize learning rate)\n",
        "\n",
        "- SGD\n",
        "- Adam\n",
        "- Adadelta\n",
        "- Adagrad\n",
        "- RMSProp"
      ],
      "metadata": {
        "id": "QaI_-vwXPdwX"
      }
    },
    {
      "cell_type": "code",
      "source": [
        "# SGD\n",
        "tf.keras.optimizers.SGD\n",
        "\n",
        "#Adam\n",
        "tf.keras.optimizers.Adam\n",
        "\n",
        "#Adadelta\n",
        "tf.keras.optimizers.Adadelta\n",
        "\n",
        "#Adagrad\n",
        "tf.keras.optimizers.Adagrad\n",
        "\n",
        "#RMSProp\n",
        "tf.keras.optimizers.RMSprop\n"
      ],
      "metadata": {
        "colab": {
          "base_uri": "https://localhost:8080/"
        },
        "id": "XtIZkgRlPm2y",
        "outputId": "2fc993ce-a2b4-4148-f85b-4c85a9793459"
      },
      "execution_count": null,
      "outputs": [
        {
          "output_type": "execute_result",
          "data": {
            "text/plain": [
              "keras.optimizers.optimizer_experimental.rmsprop.RMSprop"
            ]
          },
          "metadata": {},
          "execution_count": 14
        }
      ]
    },
    {
      "cell_type": "markdown",
      "source": [
        "Putting it altogether"
      ],
      "metadata": {
        "id": "lNysTtbiQ0iK"
      }
    },
    {
      "cell_type": "code",
      "source": [
        "import tensorflow as tf\n",
        "model = tf.keras.Sequential([...])\n",
        "\n",
        "# pick your favourite optimizer\n",
        "optimizer = tf.keras.optimizer.SGD()\n",
        "\n",
        "while True:  # loop forever\n",
        "    # forward pass through the network\n",
        "    prediction = model(x)\n",
        "\n",
        "    with tf.GradientTape() as tape:\n",
        "        # compute the loss\n",
        "        loss = compute_loss(y, prediction)\n",
        "\n",
        "    # update the weights using the gradient\n",
        "    grads = tape.gradient(loss, model.trainable_variables)\n",
        "    optimizer.apply_gradients(zip(grads, model.trainable_variables))"
      ],
      "metadata": {
        "id": "eSWEP199QHR5"
      },
      "execution_count": null,
      "outputs": []
    },
    {
      "cell_type": "markdown",
      "source": [
        "Dropout"
      ],
      "metadata": {
        "id": "77DisIDGU8QG"
      }
    },
    {
      "cell_type": "code",
      "source": [
        "tf.keras.layers.Dropout0(.5)"
      ],
      "metadata": {
        "colab": {
          "base_uri": "https://localhost:8080/"
        },
        "id": "LGuv5_KvRkxo",
        "outputId": "d352f027-dfc6-4092-df80-4944b2dd1101"
      },
      "execution_count": null,
      "outputs": [
        {
          "output_type": "execute_result",
          "data": {
            "text/plain": [
              "<keras.layers.regularization.dropout.Dropout at 0x7f84e90e3fd0>"
            ]
          },
          "metadata": {},
          "execution_count": 16
        }
      ]
    },
    {
      "cell_type": "code",
      "source": [],
      "metadata": {
        "id": "lPqMrFbJVA1X"
      },
      "execution_count": null,
      "outputs": []
    }
  ]
}